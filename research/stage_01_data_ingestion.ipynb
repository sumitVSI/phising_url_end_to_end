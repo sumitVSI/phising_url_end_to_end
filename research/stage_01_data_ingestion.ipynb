{
 "cells": [
  {
   "cell_type": "code",
   "execution_count": 1,
   "metadata": {},
   "outputs": [
    {
     "data": {
      "text/plain": [
       "'g:\\\\sumit\\\\WORK\\\\Phisingurl\\\\phising_url_tabular_data\\\\phising_url_end_to_end'"
      ]
     },
     "execution_count": 1,
     "metadata": {},
     "output_type": "execute_result"
    }
   ],
   "source": [
    "import os\n",
    "os.chdir(\"../\")\n",
    "%pwd"
   ]
  },
  {
   "cell_type": "code",
   "execution_count": 2,
   "metadata": {},
   "outputs": [],
   "source": [
    "##1 config_yaml updated\n",
    "##2 CONSTANTS UPDATED\n",
    "##3 ENTITY\n",
    "\n",
    "from dataclasses import dataclass\n",
    "from pathlib import Path\n",
    "\n",
    "@dataclass(frozen=True)\n",
    "class DataIngestionConfiguration:\n",
    "    root_dir_name: Path\n",
    "    data_set_url: str\n",
    "    local_data_path: Path\n",
    "    unzip_data_path: Path\n"
   ]
  },
  {
   "cell_type": "code",
   "execution_count": 3,
   "metadata": {},
   "outputs": [],
   "source": [
    "##4 updating configuration in src config\n",
    "\n",
    "from phising_project.constants import *\n",
    "from phising_project.utils.common import *\n",
    "\n",
    "class ConfigurationManager:\n",
    "\n",
    "    def __init__(self,\n",
    "                 config_file_path = CONFIG_FILE_PATH,\n",
    "                 schema_file_path = SCHEMA_FILE_PATH,\n",
    "                 parameter_file_path = PRAMETER_FILE_PATH):\n",
    "        try:\n",
    "            self.config = read_yaml_file(config_file_path)\n",
    "            self.schema = read_yaml_file(schema_file_path)\n",
    "            self.params = read_yaml_file(parameter_file_path)\n",
    "            self.artficats_dir_name = self.config.artifacts_dir_name\n",
    "            create_directories([self.config.artifacts_dir_name])\n",
    "\n",
    "            logger.info(f\"Artifacts directory created at : {self.config.artifacts_dir_name}\")\n",
    "        \n",
    "        except Exception as e:\n",
    "            raise e\n",
    "        \n",
    "    def get_data_ingestion_config(self) -> DataIngestionConfiguration:\n",
    "\n",
    "        try:\n",
    "            config = self.config.data_ingestion_config\n",
    "\n",
    "            data_ingestion_dir = Path(os.path.join(self.artficats_dir_name,config.root_dir_name))\n",
    "            create_directories([data_ingestion_dir])\n",
    "\n",
    "            raw_data_dir = Path(os.path.join(data_ingestion_dir,config.local_data_path))\n",
    "            create_directories([raw_data_dir])\n",
    "\n",
    "            unzip_data_dir = Path(os.path.join(data_ingestion_dir,config.unzip_data_path))\n",
    "            create_directories([unzip_data_dir])\n",
    "\n",
    "            data_ingestion_config = DataIngestionConfiguration(\n",
    "                root_dir_name = data_ingestion_dir,\n",
    "                data_set_url = config.data_set_url,\n",
    "                local_data_path = raw_data_dir,\n",
    "                unzip_data_path = unzip_data_dir \n",
    "            )\n",
    "\n",
    "            logger.info(f\"Data ingestion configuration updated: {data_ingestion_config}\")\n",
    "\n",
    "            return data_ingestion_config\n",
    "        \n",
    "        except Exception as e:\n",
    "            raise e\n",
    "\n"
   ]
  },
  {
   "cell_type": "code",
   "execution_count": 4,
   "metadata": {},
   "outputs": [],
   "source": [
    "##5 updating components\n",
    "\n",
    "import os\n",
    "import urllib.request as request\n",
    "import zipfile\n",
    "from phising_project.logging import logger\n",
    "from phising_project.utils.common import *\n",
    "\n",
    "class DataIngestion:\n",
    "    def __init__(self, config:DataIngestionConfiguration):\n",
    "        self.config = config\n",
    "\n",
    "    def download_zip_file(self):\n",
    "        try:\n",
    "            zip_file_name = os.path.basename(self.config.data_set_url)\n",
    "            zip_file_path = os.path.join(self.config.local_data_path,zip_file_name)\n",
    "            self.zip_file_path_ = zip_file_path\n",
    "            if not os.path.exists(zip_file_path):\n",
    "                filename, headers = request.urlretrieve(\n",
    "                    url = self.config.data_set_url,\n",
    "                    filename=zip_file_path\n",
    "                )\n",
    "                logger.info(f\"{filename} downloaded! with following info: \\n{headers}\")\n",
    "            else:\n",
    "                logger.info(f\"File already exists of size: {get_size(self.config.local_data_path)}\")\n",
    "        except Exception as e:\n",
    "            raise e\n",
    "\n",
    "    def extract_zip_file(self):\n",
    "        try:\n",
    "            unzip_path = self.config.unzip_data_path\n",
    "            with zipfile.ZipFile(self.zip_file_path_,'r') as zip_file:\n",
    "                zip_file.extractall(unzip_path)\n",
    "        except Exception as e:\n",
    "            raise e\n",
    "\n"
   ]
  },
  {
   "cell_type": "code",
   "execution_count": 5,
   "metadata": {},
   "outputs": [
    {
     "name": "stdout",
     "output_type": "stream",
     "text": [
      "[2025-01-14 18:42:32,560: INFO: common: yaml file : g:\\sumit\\WORK\\Phisingurl\\phising_url_tabular_data\\phising_url_end_to_end\\config\\config.yaml content loaded successfully]\n",
      "[2025-01-14 18:42:32,574: INFO: common: yaml file : g:\\sumit\\WORK\\Phisingurl\\phising_url_tabular_data\\phising_url_end_to_end\\config\\schema.yaml content loaded successfully]\n",
      "[2025-01-14 18:42:32,576: INFO: common: yaml file : g:\\sumit\\WORK\\Phisingurl\\phising_url_tabular_data\\phising_url_end_to_end\\config\\params.yaml content loaded successfully]\n",
      "[2025-01-14 18:42:32,576: INFO: common: directory created at : artifacts]\n",
      "[2025-01-14 18:42:32,577: INFO: 3284296170: Artifacts directory created at : artifacts]\n",
      "[2025-01-14 18:42:32,578: INFO: common: directory created at : artifacts\\data_ingestion]\n",
      "[2025-01-14 18:42:32,579: INFO: common: directory created at : artifacts\\data_ingestion\\raw_data]\n",
      "[2025-01-14 18:42:32,580: INFO: common: directory created at : artifacts\\data_ingestion\\ingested_data]\n",
      "[2025-01-14 18:42:32,581: INFO: 3284296170: Data ingestion configuration updated: DataIngestionConfiguration(root_dir_name=WindowsPath('artifacts/data_ingestion'), data_set_url='https://github.com/sumitVSI/raw_dataset/raw/refs/heads/main/phising_data.zip', local_data_path=WindowsPath('artifacts/data_ingestion/raw_data'), unzip_data_path=WindowsPath('artifacts/data_ingestion/ingested_data'))]\n",
      "[2025-01-14 18:42:34,932: INFO: 2090688296: artifacts\\data_ingestion\\raw_data\\phising_data.zip downloaded! with following info: \n",
      "Connection: close\n",
      "Content-Length: 8053070\n",
      "Cache-Control: max-age=300\n",
      "Content-Security-Policy: default-src 'none'; style-src 'unsafe-inline'; sandbox\n",
      "Content-Type: application/zip\n",
      "ETag: \"67382c123489d70ba2ca815a2cef506be1c8aad4bd01f08ef7c54ae2f1af618b\"\n",
      "Strict-Transport-Security: max-age=31536000\n",
      "X-Content-Type-Options: nosniff\n",
      "X-Frame-Options: deny\n",
      "X-XSS-Protection: 1; mode=block\n",
      "X-GitHub-Request-Id: 2686:17B2B8:32180:3BC2B:67865B3E\n",
      "Accept-Ranges: bytes\n",
      "Date: Tue, 14 Jan 2025 13:12:33 GMT\n",
      "Via: 1.1 varnish\n",
      "X-Served-By: cache-bom4737-BOM\n",
      "X-Cache: HIT\n",
      "X-Cache-Hits: 1\n",
      "X-Timer: S1736860353.093054,VS0,VE245\n",
      "Vary: Authorization,Accept-Encoding,Origin\n",
      "Access-Control-Allow-Origin: *\n",
      "Cross-Origin-Resource-Policy: cross-origin\n",
      "X-Fastly-Request-ID: ae0f71407fabf5db95675e101c4805600feaf13a\n",
      "Expires: Tue, 14 Jan 2025 13:17:33 GMT\n",
      "Source-Age: 0\n",
      "\n",
      "]\n"
     ]
    }
   ],
   "source": [
    "try:\n",
    "    config = ConfigurationManager()\n",
    "    data_ingestion_config = config.get_data_ingestion_config()\n",
    "    data_ingestion = DataIngestion(config=data_ingestion_config)\n",
    "    data_ingestion.download_zip_file()\n",
    "    data_ingestion.extract_zip_file()\n",
    "except Exception as e:\n",
    "            raise e"
   ]
  }
 ],
 "metadata": {
  "kernelspec": {
   "display_name": "venv",
   "language": "python",
   "name": "python3"
  },
  "language_info": {
   "codemirror_mode": {
    "name": "ipython",
    "version": 3
   },
   "file_extension": ".py",
   "mimetype": "text/x-python",
   "name": "python",
   "nbconvert_exporter": "python",
   "pygments_lexer": "ipython3",
   "version": "3.10.0"
  }
 },
 "nbformat": 4,
 "nbformat_minor": 2
}
