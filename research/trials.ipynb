{
 "cells": [
  {
   "cell_type": "code",
   "execution_count": 1,
   "metadata": {},
   "outputs": [],
   "source": [
    "import os\n",
    "os.chdir(\"../\")"
   ]
  },
  {
   "cell_type": "code",
   "execution_count": 2,
   "metadata": {},
   "outputs": [
    {
     "data": {
      "text/plain": [
       "'g:\\\\sumit\\\\WORK\\\\Phisingurl\\\\phising_url_tabular_data\\\\phising_url_end_to_end'"
      ]
     },
     "execution_count": 2,
     "metadata": {},
     "output_type": "execute_result"
    }
   ],
   "source": [
    "%pwd"
   ]
  },
  {
   "cell_type": "code",
   "execution_count": 5,
   "metadata": {},
   "outputs": [
    {
     "name": "stdout",
     "output_type": "stream",
     "text": [
      "[2025-01-13 17:03:20,105: INFO: common: yaml file : g:\\sumit\\WORK\\Phisingurl\\phising_url_tabular_data\\phising_url_end_to_end\\config\\schema.yaml content loaded successfully]\n"
     ]
    },
    {
     "data": {
      "text/plain": [
       "ConfigBox({'COLUMNS': {'email_in_url': 'int64', 'qty_dot_url': 'int64', 'qty_hyphen_url': 'int64', 'qty_underline_url': 'int64', 'qty_slash_url': 'int64', 'qty_questionmark_url': 'int64', 'qty_equal_url': 'int64', 'qty_at_url': 'int64', 'qty_and_url': 'int64', 'qty_exclamation_url': 'int64', 'qty_space_url': 'int64', 'qty_tilde_url': 'int64', 'qty_comma_url': 'int64', 'qty_plus_url': 'int64', 'qty_asterisk_url': 'int64', 'qty_hashtag_url': 'int64', 'qty_dollar_url': 'int64', 'qty_percent_url': 'int64', 'qty_tld_url': 'int64', 'length_url': 'int64', 'qty_dot_domain': 'int64', 'qty_hyphen_domain': 'int64', 'qty_underline_domain': 'int64', 'qty_slash_domain': 'int64', 'qty_questionmark_domain': 'int64', 'qty_equal_domain': 'int64', 'qty_at_domain': 'int64', 'qty_and_domain': 'int64', 'qty_exclamation_domain': 'int64', 'qty_space_domain': 'int64', 'qty_tilde_domain': 'int64', 'qty_comma_domain': 'int64', 'qty_plus_domain': 'int64', 'qty_asterisk_domain': 'int64', 'qty_hashtag_domain': 'int64', 'qty_dollar_domain': 'int64', 'qty_percent_domain': 'int64', 'qty_vowels_domain': 'int64', 'domain_length': 'int64', 'domain_in_ip': 'int64', 'qty_dot_directory': 'int64', 'qty_hyphen_directory': 'int64', 'qty_underline_directory': 'int64', 'qty_slash_directory': 'int64', 'qty_questionmark_directory': 'int64', 'qty_equal_directory': 'int64', 'qty_at_directory': 'int64', 'qty_and_directory': 'int64', 'qty_exclamation_directory': 'int64', 'qty_space_directory': 'int64', 'qty_tilde_directory': 'int64', 'qty_comma_directory': 'int64', 'qty_plus_directory': 'int64', 'qty_asterisk_directory': 'int64', 'qty_hashtag_directory': 'int64', 'qty_dollar_directory': 'int64', 'qty_percent_directory': 'int64', 'directory_length': 'int64', 'qty_dot_file': 'int64', 'qty_hyphen_file': 'int64', 'qty_underline_file': 'int64', 'qty_slash_file': 'int64', 'qty_questionmark_file': 'int64', 'qty_equal_file': 'int64', 'qty_at_file': 'int64', 'qty_and_file': 'int64', 'qty_exclamation_file': 'int64', 'qty_space_file': 'int64', 'qty_tilde_file': 'int64', 'qty_comma_file': 'int64', 'qty_plus_file': 'int64', 'qty_asterisk_file': 'int64', 'qty_hashtag_file': 'int64', 'qty_dollar_file': 'int64', 'qty_percent_file': 'int64', 'file_length': 'int64', 'qty_dot_params': 'int64', 'qty_hyphen_params': 'int64', 'qty_underline_params': 'int64', 'qty_slash_params': 'int64', 'qty_questionmark_params': 'int64', 'qty_equal_params': 'int64', 'qty_at_params': 'int64', 'qty_and_params': 'int64', 'qty_exclamation_params': 'int64', 'qty_space_params': 'int64', 'qty_tilde_params': 'int64', 'qty_comma_params': 'int64', 'qty_plus_params': 'int64', 'qty_asterisk_params': 'int64', 'qty_hashtag_params': 'int64', 'qty_dollar_params': 'int64', 'qty_percent_params': 'int64', 'params_length': 'int64', 'tld_present_params': 'int64', 'qty_params': 'int64'}, 'TARGET_COLUMN': {'name': 'phishing'}})"
      ]
     },
     "execution_count": 5,
     "metadata": {},
     "output_type": "execute_result"
    }
   ],
   "source": [
    "from phising_project.constants import *\n",
    "from phising_project.utils.common import *\n",
    "\n",
    "a = read_yaml_file(SCHEMA_FILE_PATH)\n",
    "a"
   ]
  },
  {
   "cell_type": "code",
   "execution_count": 4,
   "metadata": {},
   "outputs": [
    {
     "data": {
      "text/plain": [
       "WindowsPath('g:/sumit/WORK/Phisingurl/phising_url_tabular_data/phising_url_end_to_end/config/schema.yaml')"
      ]
     },
     "execution_count": 4,
     "metadata": {},
     "output_type": "execute_result"
    }
   ],
   "source": [
    "from phising_project.constants import *\n",
    "from phising_project.utils.common import *\n",
    "from pathlib import Path\n",
    "SCHEMA_FILE_PATH"
   ]
  },
  {
   "cell_type": "code",
   "execution_count": 9,
   "metadata": {},
   "outputs": [
    {
     "data": {
      "text/plain": [
       "str"
      ]
     },
     "execution_count": 9,
     "metadata": {},
     "output_type": "execute_result"
    }
   ],
   "source": [
    "type(a.COLUMNS['email_in_url'])"
   ]
  },
  {
   "cell_type": "code",
   "execution_count": 10,
   "metadata": {},
   "outputs": [
    {
     "data": {
      "text/plain": [
       "(5048, 98)"
      ]
     },
     "execution_count": 10,
     "metadata": {},
     "output_type": "execute_result"
    }
   ],
   "source": [
    "df1 = pd.read_csv(r\"G:\\sumit\\WORK\\Phisingurl\\phising_url_tabular_data\\model_validation\\phising_test_data.csv\")\n",
    "df1.shape"
   ]
  },
  {
   "cell_type": "code",
   "execution_count": 11,
   "metadata": {},
   "outputs": [
    {
     "data": {
      "text/plain": [
       "dict_keys(['email_in_url', 'qty_dot_url', 'qty_hyphen_url', 'qty_underline_url', 'qty_slash_url', 'qty_questionmark_url', 'qty_equal_url', 'qty_at_url', 'qty_and_url', 'qty_exclamation_url', 'qty_space_url', 'qty_tilde_url', 'qty_comma_url', 'qty_plus_url', 'qty_asterisk_url', 'qty_hashtag_url', 'qty_dollar_url', 'qty_percent_url', 'qty_tld_url', 'length_url', 'qty_dot_domain', 'qty_hyphen_domain', 'qty_underline_domain', 'qty_slash_domain', 'qty_questionmark_domain', 'qty_equal_domain', 'qty_at_domain', 'qty_and_domain', 'qty_exclamation_domain', 'qty_space_domain', 'qty_tilde_domain', 'qty_comma_domain', 'qty_plus_domain', 'qty_asterisk_domain', 'qty_hashtag_domain', 'qty_dollar_domain', 'qty_percent_domain', 'qty_vowels_domain', 'domain_length', 'domain_in_ip', 'qty_dot_directory', 'qty_hyphen_directory', 'qty_underline_directory', 'qty_slash_directory', 'qty_questionmark_directory', 'qty_equal_directory', 'qty_at_directory', 'qty_and_directory', 'qty_exclamation_directory', 'qty_space_directory', 'qty_tilde_directory', 'qty_comma_directory', 'qty_plus_directory', 'qty_asterisk_directory', 'qty_hashtag_directory', 'qty_dollar_directory', 'qty_percent_directory', 'directory_length', 'qty_dot_file', 'qty_hyphen_file', 'qty_underline_file', 'qty_slash_file', 'qty_questionmark_file', 'qty_equal_file', 'qty_at_file', 'qty_and_file', 'qty_exclamation_file', 'qty_space_file', 'qty_tilde_file', 'qty_comma_file', 'qty_plus_file', 'qty_asterisk_file', 'qty_hashtag_file', 'qty_dollar_file', 'qty_percent_file', 'file_length', 'qty_dot_params', 'qty_hyphen_params', 'qty_underline_params', 'qty_slash_params', 'qty_questionmark_params', 'qty_equal_params', 'qty_at_params', 'qty_and_params', 'qty_exclamation_params', 'qty_space_params', 'qty_tilde_params', 'qty_comma_params', 'qty_plus_params', 'qty_asterisk_params', 'qty_hashtag_params', 'qty_dollar_params', 'qty_percent_params', 'params_length', 'tld_present_params', 'qty_params'])"
      ]
     },
     "execution_count": 11,
     "metadata": {},
     "output_type": "execute_result"
    }
   ],
   "source": [
    "a.COLUMNS.keys()"
   ]
  },
  {
   "cell_type": "code",
   "execution_count": 14,
   "metadata": {},
   "outputs": [
    {
     "data": {
      "text/plain": [
       "'phising_data.zip'"
      ]
     },
     "execution_count": 14,
     "metadata": {},
     "output_type": "execute_result"
    }
   ],
   "source": [
    "os.path.basename(\"https://github.com/sumitVSI/raw_dataset/raw/refs/heads/main/phising_data.zip\")"
   ]
  },
  {
   "cell_type": "code",
   "execution_count": 24,
   "metadata": {},
   "outputs": [
    {
     "ename": "PermissionError",
     "evalue": "[Errno 13] Permission denied: 'G://sumit//WORK//text_classification//classification_project'",
     "output_type": "error",
     "traceback": [
      "\u001b[1;31m---------------------------------------------------------------------------\u001b[0m",
      "\u001b[1;31mPermissionError\u001b[0m                           Traceback (most recent call last)",
      "Cell \u001b[1;32mIn[24], line 2\u001b[0m\n\u001b[0;32m      1\u001b[0m \u001b[38;5;28;01mimport\u001b[39;00m\u001b[38;5;250m \u001b[39m\u001b[38;5;21;01murllib\u001b[39;00m\u001b[38;5;21;01m.\u001b[39;00m\u001b[38;5;21;01mrequest\u001b[39;00m\u001b[38;5;250m \u001b[39m\u001b[38;5;28;01mas\u001b[39;00m\u001b[38;5;250m \u001b[39m\u001b[38;5;21;01mrequest\u001b[39;00m\n\u001b[1;32m----> 2\u001b[0m fn,head \u001b[38;5;241m=\u001b[39m \u001b[43mrequest\u001b[49m\u001b[38;5;241;43m.\u001b[39;49m\u001b[43murlretrieve\u001b[49m\u001b[43m(\u001b[49m\u001b[38;5;124;43m\"\u001b[39;49m\u001b[38;5;124;43mhttps://github.com/entbappy/Branching-tutorial/raw/master/winequality-data.zip\u001b[39;49m\u001b[38;5;124;43m\"\u001b[39;49m\u001b[43m,\u001b[49m\n\u001b[0;32m      3\u001b[0m \u001b[43m                              \u001b[49m\u001b[43mfilename\u001b[49m\u001b[38;5;241;43m=\u001b[39;49m\u001b[38;5;124;43m\"\u001b[39;49m\u001b[38;5;124;43mG://sumit//WORK//text_classification//classification_project\u001b[39;49m\u001b[38;5;124;43m\"\u001b[39;49m\u001b[43m)\u001b[49m\n",
      "File \u001b[1;32mg:\\sumit\\WORK\\Phisingurl\\phising_url_tabular_data\\phising_url_end_to_end\\venv\\lib\\urllib\\request.py:251\u001b[0m, in \u001b[0;36murlretrieve\u001b[1;34m(url, filename, reporthook, data)\u001b[0m\n\u001b[0;32m    249\u001b[0m \u001b[38;5;66;03m# Handle temporary file setup.\u001b[39;00m\n\u001b[0;32m    250\u001b[0m \u001b[38;5;28;01mif\u001b[39;00m filename:\n\u001b[1;32m--> 251\u001b[0m     tfp \u001b[38;5;241m=\u001b[39m \u001b[38;5;28;43mopen\u001b[39;49m\u001b[43m(\u001b[49m\u001b[43mfilename\u001b[49m\u001b[43m,\u001b[49m\u001b[43m \u001b[49m\u001b[38;5;124;43m'\u001b[39;49m\u001b[38;5;124;43mwb\u001b[39;49m\u001b[38;5;124;43m'\u001b[39;49m\u001b[43m)\u001b[49m\n\u001b[0;32m    252\u001b[0m \u001b[38;5;28;01melse\u001b[39;00m:\n\u001b[0;32m    253\u001b[0m     tfp \u001b[38;5;241m=\u001b[39m tempfile\u001b[38;5;241m.\u001b[39mNamedTemporaryFile(delete\u001b[38;5;241m=\u001b[39m\u001b[38;5;28;01mFalse\u001b[39;00m)\n",
      "\u001b[1;31mPermissionError\u001b[0m: [Errno 13] Permission denied: 'G://sumit//WORK//text_classification//classification_project'"
     ]
    }
   ],
   "source": [
    "import urllib.request as request\n",
    "fn,head = request.urlretrieve(\"https://github.com/entbappy/Branching-tutorial/raw/master/winequality-data.zip\",\n",
    "                              filename=\"G://sumit//WORK//text_classification//classification_project\")"
   ]
  },
  {
   "cell_type": "code",
   "execution_count": 27,
   "metadata": {},
   "outputs": [],
   "source": [
    "zip_file_name = os.path.basename(\"https://github.com/sumitVSI/raw_dataset/raw/refs/heads/main/phising_data.zip\")\n",
    "zip_data_path = os.path.join(r\"G:\\sumit\\WORK\\Phisingurl\\phising_url_tabular_data\\phising_url_end_to_end\\artifacts\\data_ingestion\",\"raw_data\")\n",
    "zip_data_path_ = zip_data_path\n",
    "if not os.path.exists(zip_data_path):\n",
    "    filename, headers = request.urlretrieve(url = \"https://github.com/sumitVSI/raw_dataset/raw/refs/heads/main/phising_data.zip\",filename=zip_data_path)"
   ]
  },
  {
   "cell_type": "code",
   "execution_count": 19,
   "metadata": {},
   "outputs": [
    {
     "data": {
      "text/plain": [
       "<http.client.HTTPMessage at 0x261e457d870>"
      ]
     },
     "execution_count": 19,
     "metadata": {},
     "output_type": "execute_result"
    }
   ],
   "source": [
    "head"
   ]
  },
  {
   "cell_type": "code",
   "execution_count": 28,
   "metadata": {},
   "outputs": [],
   "source": [
    "# update config.yaml\n",
    "# Update schema.yaml\n",
    "# update params.yaml\n",
    "# update constants\n",
    "# update entity\n",
    "# update configuration manager in src config\n",
    "# update components\n",
    "# update pipeline\n",
    "# update main.py\n",
    "# update app.py"
   ]
  },
  {
   "cell_type": "code",
   "execution_count": 3,
   "metadata": {},
   "outputs": [
    {
     "name": "stdout",
     "output_type": "stream",
     "text": [
      "[2025-01-15 15:59:15,152: INFO: common: yaml file : g:\\sumit\\WORK\\Phisingurl\\phising_url_tabular_data\\phising_url_end_to_end\\config\\config.yaml content loaded successfully]\n",
      "[2025-01-15 15:59:15,176: INFO: common: yaml file : g:\\sumit\\WORK\\Phisingurl\\phising_url_tabular_data\\phising_url_end_to_end\\config\\schema.yaml content loaded successfully]\n",
      "[2025-01-15 15:59:15,177: INFO: common: yaml file : g:\\sumit\\WORK\\Phisingurl\\phising_url_tabular_data\\phising_url_end_to_end\\config\\params.yaml content loaded successfully]\n",
      "[2025-01-15 15:59:15,178: INFO: common: directory created at : artifacts]\n",
      "[2025-01-15 15:59:15,179: INFO: configuration: Artifacts directory created at : artifacts]\n"
     ]
    }
   ],
   "source": [
    "from phising_project.config.configuration import ConfigurationManager\n",
    "cfgm = ConfigurationManager()\n",
    "schema = cfgm.schema"
   ]
  },
  {
   "cell_type": "code",
   "execution_count": 8,
   "metadata": {},
   "outputs": [
    {
     "data": {
      "text/plain": [
       "['email_in_url',\n",
       " 'qty_dot_url',\n",
       " 'qty_hyphen_url',\n",
       " 'qty_underline_url',\n",
       " 'qty_slash_url',\n",
       " 'qty_questionmark_url',\n",
       " 'qty_equal_url',\n",
       " 'qty_at_url',\n",
       " 'qty_and_url',\n",
       " 'qty_exclamation_url',\n",
       " 'qty_space_url',\n",
       " 'qty_tilde_url',\n",
       " 'qty_comma_url',\n",
       " 'qty_plus_url',\n",
       " 'qty_asterisk_url',\n",
       " 'qty_hashtag_url',\n",
       " 'qty_dollar_url',\n",
       " 'qty_percent_url',\n",
       " 'qty_tld_url',\n",
       " 'length_url',\n",
       " 'qty_dot_domain',\n",
       " 'qty_hyphen_domain',\n",
       " 'qty_underline_domain',\n",
       " 'qty_slash_domain',\n",
       " 'qty_questionmark_domain',\n",
       " 'qty_equal_domain',\n",
       " 'qty_at_domain',\n",
       " 'qty_and_domain',\n",
       " 'qty_exclamation_domain',\n",
       " 'qty_space_domain',\n",
       " 'qty_tilde_domain',\n",
       " 'qty_comma_domain',\n",
       " 'qty_plus_domain',\n",
       " 'qty_asterisk_domain',\n",
       " 'qty_hashtag_domain',\n",
       " 'qty_dollar_domain',\n",
       " 'qty_percent_domain',\n",
       " 'qty_vowels_domain',\n",
       " 'domain_length',\n",
       " 'domain_in_ip',\n",
       " 'qty_dot_directory',\n",
       " 'qty_hyphen_directory',\n",
       " 'qty_underline_directory',\n",
       " 'qty_slash_directory',\n",
       " 'qty_questionmark_directory',\n",
       " 'qty_equal_directory',\n",
       " 'qty_at_directory',\n",
       " 'qty_and_directory',\n",
       " 'qty_exclamation_directory',\n",
       " 'qty_space_directory',\n",
       " 'qty_tilde_directory',\n",
       " 'qty_comma_directory',\n",
       " 'qty_plus_directory',\n",
       " 'qty_asterisk_directory',\n",
       " 'qty_hashtag_directory',\n",
       " 'qty_dollar_directory',\n",
       " 'qty_percent_directory',\n",
       " 'directory_length',\n",
       " 'qty_dot_file',\n",
       " 'qty_hyphen_file',\n",
       " 'qty_underline_file',\n",
       " 'qty_slash_file',\n",
       " 'qty_questionmark_file',\n",
       " 'qty_equal_file',\n",
       " 'qty_at_file',\n",
       " 'qty_and_file',\n",
       " 'qty_exclamation_file',\n",
       " 'qty_space_file',\n",
       " 'qty_tilde_file',\n",
       " 'qty_comma_file',\n",
       " 'qty_plus_file',\n",
       " 'qty_asterisk_file',\n",
       " 'qty_hashtag_file',\n",
       " 'qty_dollar_file',\n",
       " 'qty_percent_file',\n",
       " 'file_length',\n",
       " 'qty_dot_params',\n",
       " 'qty_hyphen_params',\n",
       " 'qty_underline_params',\n",
       " 'qty_slash_params',\n",
       " 'qty_questionmark_params',\n",
       " 'qty_equal_params',\n",
       " 'qty_at_params',\n",
       " 'qty_and_params',\n",
       " 'qty_exclamation_params',\n",
       " 'qty_space_params',\n",
       " 'qty_tilde_params',\n",
       " 'qty_comma_params',\n",
       " 'qty_plus_params',\n",
       " 'qty_asterisk_params',\n",
       " 'qty_hashtag_params',\n",
       " 'qty_dollar_params',\n",
       " 'qty_percent_params',\n",
       " 'params_length',\n",
       " 'tld_present_params',\n",
       " 'qty_params']"
      ]
     },
     "execution_count": 8,
     "metadata": {},
     "output_type": "execute_result"
    }
   ],
   "source": [
    "list(schema.FEATURE_COLUMNS.keys())"
   ]
  },
  {
   "cell_type": "code",
   "execution_count": 6,
   "metadata": {},
   "outputs": [
    {
     "data": {
      "text/plain": [
       "dict_values(['int64', 'int64', 'int64', 'int64', 'int64', 'int64', 'int64', 'int64', 'int64', 'int64', 'int64', 'int64', 'int64', 'int64', 'int64', 'int64', 'int64', 'int64', 'int64', 'int64', 'int64', 'int64', 'int64', 'int64', 'int64', 'int64', 'int64', 'int64', 'int64', 'int64', 'int64', 'int64', 'int64', 'int64', 'int64', 'int64', 'int64', 'int64', 'int64', 'int64', 'int64', 'int64', 'int64', 'int64', 'int64', 'int64', 'int64', 'int64', 'int64', 'int64', 'int64', 'int64', 'int64', 'int64', 'int64', 'int64', 'int64', 'int64', 'int64', 'int64', 'int64', 'int64', 'int64', 'int64', 'int64', 'int64', 'int64', 'int64', 'int64', 'int64', 'int64', 'int64', 'int64', 'int64', 'int64', 'int64', 'int64', 'int64', 'int64', 'int64', 'int64', 'int64', 'int64', 'int64', 'int64', 'int64', 'int64', 'int64', 'int64', 'int64', 'int64', 'int64', 'int64', 'int64', 'int64', 'int64'])"
      ]
     },
     "execution_count": 6,
     "metadata": {},
     "output_type": "execute_result"
    }
   ],
   "source": [
    "schema.FEATURE_COLUMNS.values()"
   ]
  },
  {
   "cell_type": "code",
   "execution_count": 15,
   "metadata": {},
   "outputs": [
    {
     "name": "stdout",
     "output_type": "stream",
     "text": [
      "yes\n"
     ]
    }
   ],
   "source": [
    "a = ['b','c','d']\n",
    "if ('b' in a) and ('c' in a):\n",
    "    print(\"yes\")"
   ]
  },
  {
   "cell_type": "code",
   "execution_count": 17,
   "metadata": {},
   "outputs": [],
   "source": [
    "ch = ['b','c']\n",
    "if ch in a:\n",
    "    print(\"yes\")"
   ]
  },
  {
   "cell_type": "code",
   "execution_count": 21,
   "metadata": {},
   "outputs": [
    {
     "data": {
      "text/plain": [
       "{'d'}"
      ]
     },
     "execution_count": 21,
     "metadata": {},
     "output_type": "execute_result"
    }
   ],
   "source": [
    "c1 = set(a)-set(ch)\n",
    "c1"
   ]
  },
  {
   "cell_type": "code",
   "execution_count": 27,
   "metadata": {},
   "outputs": [
    {
     "name": "stdout",
     "output_type": "stream",
     "text": [
      "f\n"
     ]
    }
   ],
   "source": [
    "v = True\n",
    "if v:\n",
    "    print(\"f\")"
   ]
  },
  {
   "cell_type": "code",
   "execution_count": 36,
   "metadata": {},
   "outputs": [
    {
     "name": "stdout",
     "output_type": "stream",
     "text": [
      "oho\n",
      "oho\n"
     ]
    }
   ],
   "source": [
    "a = {'sks','efg','vcb'}\n",
    "b = {'sks','efg'}\n",
    "type(a)\n",
    "for i in a:\n",
    "   if i in b:\n",
    "      print(\"oho\")"
   ]
  },
  {
   "cell_type": "code",
   "execution_count": 29,
   "metadata": {},
   "outputs": [
    {
     "name": "stdout",
     "output_type": "stream",
     "text": [
      "d\n",
      "c\n",
      "b\n"
     ]
    }
   ],
   "source": [
    "for i in a:\n",
    "    print(i)"
   ]
  },
  {
   "cell_type": "code",
   "execution_count": 44,
   "metadata": {},
   "outputs": [
    {
     "ename": "TypeError",
     "evalue": "'set' object is not subscriptable",
     "output_type": "error",
     "traceback": [
      "\u001b[1;31m---------------------------------------------------------------------------\u001b[0m",
      "\u001b[1;31mTypeError\u001b[0m                                 Traceback (most recent call last)",
      "Cell \u001b[1;32mIn[44], line 1\u001b[0m\n\u001b[1;32m----> 1\u001b[0m \u001b[43ma\u001b[49m\u001b[43m[\u001b[49m\u001b[43m:\u001b[49m\u001b[38;5;241;43m-\u001b[39;49m\u001b[38;5;241;43m1\u001b[39;49m\u001b[43m]\u001b[49m\n",
      "\u001b[1;31mTypeError\u001b[0m: 'set' object is not subscriptable"
     ]
    }
   ],
   "source": [
    "a[:-1]"
   ]
  },
  {
   "cell_type": "code",
   "execution_count": 34,
   "metadata": {},
   "outputs": [
    {
     "data": {
      "text/plain": [
       "98"
      ]
     },
     "execution_count": 34,
     "metadata": {},
     "output_type": "execute_result"
    }
   ],
   "source": [
    "ord(\"b\")"
   ]
  },
  {
   "cell_type": "code",
   "execution_count": 39,
   "metadata": {},
   "outputs": [],
   "source": [
    "import pandas as pd\n",
    "df = pd.read_csv(r\"G:\\sumit\\WORK\\Phisingurl\\phising_url_tabular_data\\phising_url_end_to_end\\artifacts\\data_ingestion\\ingested_data\\malicious_url_data.csv\")\n"
   ]
  },
  {
   "cell_type": "code",
   "execution_count": 40,
   "metadata": {},
   "outputs": [
    {
     "data": {
      "text/plain": [
       "['url',\n",
       " 'email_in_url',\n",
       " 'qty_dot_url',\n",
       " 'qty_hyphen_url',\n",
       " 'qty_underline_url',\n",
       " 'qty_slash_url',\n",
       " 'qty_questionmark_url',\n",
       " 'qty_equal_url',\n",
       " 'qty_at_url',\n",
       " 'qty_and_url',\n",
       " 'qty_exclamation_url',\n",
       " 'qty_space_url',\n",
       " 'qty_tilde_url',\n",
       " 'qty_comma_url',\n",
       " 'qty_plus_url',\n",
       " 'qty_asterisk_url',\n",
       " 'qty_hashtag_url',\n",
       " 'qty_dollar_url',\n",
       " 'qty_percent_url',\n",
       " 'qty_tld_url',\n",
       " 'length_url',\n",
       " 'qty_dot_domain',\n",
       " 'qty_hyphen_domain',\n",
       " 'qty_underline_domain',\n",
       " 'qty_slash_domain',\n",
       " 'qty_questionmark_domain',\n",
       " 'qty_equal_domain',\n",
       " 'qty_at_domain',\n",
       " 'qty_and_domain',\n",
       " 'qty_exclamation_domain',\n",
       " 'qty_space_domain',\n",
       " 'qty_tilde_domain',\n",
       " 'qty_comma_domain',\n",
       " 'qty_plus_domain',\n",
       " 'qty_asterisk_domain',\n",
       " 'qty_hashtag_domain',\n",
       " 'qty_dollar_domain',\n",
       " 'qty_percent_domain',\n",
       " 'qty_vowels_domain',\n",
       " 'domain_length',\n",
       " 'domain_in_ip',\n",
       " 'qty_dot_directory',\n",
       " 'qty_hyphen_directory',\n",
       " 'qty_underline_directory',\n",
       " 'qty_slash_directory',\n",
       " 'qty_questionmark_directory',\n",
       " 'qty_equal_directory',\n",
       " 'qty_at_directory',\n",
       " 'qty_and_directory',\n",
       " 'qty_exclamation_directory',\n",
       " 'qty_space_directory',\n",
       " 'qty_tilde_directory',\n",
       " 'qty_comma_directory',\n",
       " 'qty_plus_directory',\n",
       " 'qty_asterisk_directory',\n",
       " 'qty_hashtag_directory',\n",
       " 'qty_dollar_directory',\n",
       " 'qty_percent_directory',\n",
       " 'directory_length',\n",
       " 'qty_dot_file',\n",
       " 'qty_hyphen_file',\n",
       " 'qty_underline_file',\n",
       " 'qty_slash_file',\n",
       " 'qty_questionmark_file',\n",
       " 'qty_equal_file',\n",
       " 'qty_at_file',\n",
       " 'qty_and_file',\n",
       " 'qty_exclamation_file',\n",
       " 'qty_space_file',\n",
       " 'qty_tilde_file',\n",
       " 'qty_comma_file',\n",
       " 'qty_plus_file',\n",
       " 'qty_asterisk_file',\n",
       " 'qty_hashtag_file',\n",
       " 'qty_dollar_file',\n",
       " 'qty_percent_file',\n",
       " 'file_length',\n",
       " 'qty_dot_params',\n",
       " 'qty_hyphen_params',\n",
       " 'qty_underline_params',\n",
       " 'qty_slash_params',\n",
       " 'qty_questionmark_params',\n",
       " 'qty_equal_params',\n",
       " 'qty_at_params',\n",
       " 'qty_and_params',\n",
       " 'qty_exclamation_params',\n",
       " 'qty_space_params',\n",
       " 'qty_tilde_params',\n",
       " 'qty_comma_params',\n",
       " 'qty_plus_params',\n",
       " 'qty_asterisk_params',\n",
       " 'qty_hashtag_params',\n",
       " 'qty_dollar_params',\n",
       " 'qty_percent_params',\n",
       " 'params_length',\n",
       " 'tld_present_params',\n",
       " 'qty_params',\n",
       " 'phishing']"
      ]
     },
     "execution_count": 40,
     "metadata": {},
     "output_type": "execute_result"
    }
   ],
   "source": [
    "feature = df.columns.to_list()\n",
    "feature"
   ]
  },
  {
   "cell_type": "code",
   "execution_count": 42,
   "metadata": {},
   "outputs": [
    {
     "data": {
      "text/plain": [
       "True"
      ]
     },
     "execution_count": 42,
     "metadata": {},
     "output_type": "execute_result"
    }
   ],
   "source": [
    "df['qty_params'].dtype == schema.FEATURE_COLUMNS['qty_params']"
   ]
  },
  {
   "cell_type": "code",
   "execution_count": 46,
   "metadata": {},
   "outputs": [
    {
     "name": "stdout",
     "output_type": "stream",
     "text": [
      "email_in_url\n",
      "qty_dot_url\n",
      "qty_hyphen_url\n",
      "qty_underline_url\n",
      "qty_slash_url\n",
      "qty_questionmark_url\n",
      "qty_equal_url\n",
      "qty_at_url\n",
      "qty_and_url\n",
      "qty_exclamation_url\n",
      "qty_space_url\n",
      "qty_tilde_url\n",
      "qty_comma_url\n",
      "qty_plus_url\n",
      "qty_asterisk_url\n",
      "qty_hashtag_url\n",
      "qty_dollar_url\n",
      "qty_percent_url\n",
      "qty_tld_url\n",
      "length_url\n",
      "qty_dot_domain\n",
      "qty_hyphen_domain\n",
      "qty_underline_domain\n",
      "qty_slash_domain\n",
      "qty_questionmark_domain\n",
      "qty_equal_domain\n",
      "qty_at_domain\n",
      "qty_and_domain\n",
      "qty_exclamation_domain\n",
      "qty_space_domain\n",
      "qty_tilde_domain\n",
      "qty_comma_domain\n",
      "qty_plus_domain\n",
      "qty_asterisk_domain\n",
      "qty_hashtag_domain\n",
      "qty_dollar_domain\n",
      "qty_percent_domain\n",
      "qty_vowels_domain\n",
      "domain_length\n",
      "domain_in_ip\n",
      "qty_dot_directory\n",
      "qty_hyphen_directory\n",
      "qty_underline_directory\n",
      "qty_slash_directory\n",
      "qty_questionmark_directory\n",
      "qty_equal_directory\n",
      "qty_at_directory\n",
      "qty_and_directory\n",
      "qty_exclamation_directory\n",
      "qty_space_directory\n",
      "qty_tilde_directory\n",
      "qty_comma_directory\n",
      "qty_plus_directory\n",
      "qty_asterisk_directory\n",
      "qty_hashtag_directory\n",
      "qty_dollar_directory\n",
      "qty_percent_directory\n",
      "directory_length\n",
      "qty_dot_file\n",
      "qty_hyphen_file\n",
      "qty_underline_file\n",
      "qty_slash_file\n",
      "qty_questionmark_file\n",
      "qty_equal_file\n",
      "qty_at_file\n",
      "qty_and_file\n",
      "qty_exclamation_file\n",
      "qty_space_file\n",
      "qty_tilde_file\n",
      "qty_comma_file\n",
      "qty_plus_file\n",
      "qty_asterisk_file\n",
      "qty_hashtag_file\n",
      "qty_dollar_file\n",
      "qty_percent_file\n",
      "file_length\n",
      "qty_dot_params\n",
      "qty_hyphen_params\n",
      "qty_underline_params\n",
      "qty_slash_params\n",
      "qty_questionmark_params\n",
      "qty_equal_params\n",
      "qty_at_params\n",
      "qty_and_params\n",
      "qty_exclamation_params\n",
      "qty_space_params\n",
      "qty_tilde_params\n",
      "qty_comma_params\n",
      "qty_plus_params\n",
      "qty_asterisk_params\n",
      "qty_hashtag_params\n",
      "qty_dollar_params\n",
      "qty_percent_params\n",
      "params_length\n",
      "tld_present_params\n",
      "qty_params\n"
     ]
    }
   ],
   "source": [
    "for clm in schema.FEATURE_COLUMNS.keys():\n",
    "    print(clm)"
   ]
  },
  {
   "cell_type": "code",
   "execution_count": 45,
   "metadata": {},
   "outputs": [
    {
     "ename": "BoxKeyError",
     "evalue": "\"'ConfigBox' object has no attribute 'non_feature_column'\"",
     "output_type": "error",
     "traceback": [
      "\u001b[1;31m---------------------------------------------------------------------------\u001b[0m",
      "\u001b[1;31mKeyError\u001b[0m                                  Traceback (most recent call last)",
      "File \u001b[1;32mg:\\sumit\\WORK\\Phisingurl\\phising_url_tabular_data\\phising_url_end_to_end\\venv\\lib\\site-packages\\box\\box.py:503\u001b[0m, in \u001b[0;36mbox.box.Box.__getitem__\u001b[1;34m()\u001b[0m\n",
      "\u001b[1;31mKeyError\u001b[0m: 'NON_FEATURE_COLUMN'",
      "\nThe above exception was the direct cause of the following exception:\n",
      "\u001b[1;31mBoxKeyError\u001b[0m                               Traceback (most recent call last)",
      "File \u001b[1;32mg:\\sumit\\WORK\\Phisingurl\\phising_url_tabular_data\\phising_url_end_to_end\\venv\\lib\\site-packages\\box\\box.py:536\u001b[0m, in \u001b[0;36mbox.box.Box.__getattr__\u001b[1;34m()\u001b[0m\n",
      "File \u001b[1;32mg:\\sumit\\WORK\\Phisingurl\\phising_url_tabular_data\\phising_url_end_to_end\\venv\\lib\\site-packages\\box\\box.py:524\u001b[0m, in \u001b[0;36mbox.box.Box.__getitem__\u001b[1;34m()\u001b[0m\n",
      "\u001b[1;31mBoxKeyError\u001b[0m: \"'NON_FEATURE_COLUMN'\"",
      "\nDuring handling of the above exception, another exception occurred:\n",
      "\u001b[1;31mAttributeError\u001b[0m                            Traceback (most recent call last)",
      "File \u001b[1;32mg:\\sumit\\WORK\\Phisingurl\\phising_url_tabular_data\\phising_url_end_to_end\\venv\\lib\\site-packages\\box\\box.py:538\u001b[0m, in \u001b[0;36mbox.box.Box.__getattr__\u001b[1;34m()\u001b[0m\n",
      "\u001b[1;31mAttributeError\u001b[0m: 'ConfigBox' object has no attribute 'NON_FEATURE_COLUMN'",
      "\nThe above exception was the direct cause of the following exception:\n",
      "\u001b[1;31mBoxKeyError\u001b[0m                               Traceback (most recent call last)",
      "File \u001b[1;32mg:\\sumit\\WORK\\Phisingurl\\phising_url_tabular_data\\phising_url_end_to_end\\venv\\lib\\site-packages\\box\\config_box.py:28\u001b[0m, in \u001b[0;36mbox.config_box.ConfigBox.__getattr__\u001b[1;34m()\u001b[0m\n",
      "File \u001b[1;32mg:\\sumit\\WORK\\Phisingurl\\phising_url_tabular_data\\phising_url_end_to_end\\venv\\lib\\site-packages\\box\\box.py:552\u001b[0m, in \u001b[0;36mbox.box.Box.__getattr__\u001b[1;34m()\u001b[0m\n",
      "\u001b[1;31mBoxKeyError\u001b[0m: \"'ConfigBox' object has no attribute 'NON_FEATURE_COLUMN'\"",
      "\nDuring handling of the above exception, another exception occurred:\n",
      "\u001b[1;31mKeyError\u001b[0m                                  Traceback (most recent call last)",
      "File \u001b[1;32mg:\\sumit\\WORK\\Phisingurl\\phising_url_tabular_data\\phising_url_end_to_end\\venv\\lib\\site-packages\\box\\box.py:503\u001b[0m, in \u001b[0;36mbox.box.Box.__getitem__\u001b[1;34m()\u001b[0m\n",
      "\u001b[1;31mKeyError\u001b[0m: 'non_feature_column'",
      "\nThe above exception was the direct cause of the following exception:\n",
      "\u001b[1;31mBoxKeyError\u001b[0m                               Traceback (most recent call last)",
      "File \u001b[1;32mg:\\sumit\\WORK\\Phisingurl\\phising_url_tabular_data\\phising_url_end_to_end\\venv\\lib\\site-packages\\box\\box.py:536\u001b[0m, in \u001b[0;36mbox.box.Box.__getattr__\u001b[1;34m()\u001b[0m\n",
      "File \u001b[1;32mg:\\sumit\\WORK\\Phisingurl\\phising_url_tabular_data\\phising_url_end_to_end\\venv\\lib\\site-packages\\box\\box.py:524\u001b[0m, in \u001b[0;36mbox.box.Box.__getitem__\u001b[1;34m()\u001b[0m\n",
      "\u001b[1;31mBoxKeyError\u001b[0m: \"'non_feature_column'\"",
      "\nDuring handling of the above exception, another exception occurred:\n",
      "\u001b[1;31mAttributeError\u001b[0m                            Traceback (most recent call last)",
      "File \u001b[1;32mg:\\sumit\\WORK\\Phisingurl\\phising_url_tabular_data\\phising_url_end_to_end\\venv\\lib\\site-packages\\box\\box.py:538\u001b[0m, in \u001b[0;36mbox.box.Box.__getattr__\u001b[1;34m()\u001b[0m\n",
      "\u001b[1;31mAttributeError\u001b[0m: 'ConfigBox' object has no attribute 'non_feature_column'",
      "\nThe above exception was the direct cause of the following exception:\n",
      "\u001b[1;31mBoxKeyError\u001b[0m                               Traceback (most recent call last)",
      "Cell \u001b[1;32mIn[45], line 1\u001b[0m\n\u001b[1;32m----> 1\u001b[0m \u001b[43mschema\u001b[49m\u001b[38;5;241;43m.\u001b[39;49m\u001b[43mNON_FEATURE_COLUMN\u001b[49m\n",
      "File \u001b[1;32mg:\\sumit\\WORK\\Phisingurl\\phising_url_tabular_data\\phising_url_end_to_end\\venv\\lib\\site-packages\\box\\config_box.py:30\u001b[0m, in \u001b[0;36mbox.config_box.ConfigBox.__getattr__\u001b[1;34m()\u001b[0m\n",
      "File \u001b[1;32mg:\\sumit\\WORK\\Phisingurl\\phising_url_tabular_data\\phising_url_end_to_end\\venv\\lib\\site-packages\\box\\box.py:552\u001b[0m, in \u001b[0;36mbox.box.Box.__getattr__\u001b[1;34m()\u001b[0m\n",
      "\u001b[1;31mBoxKeyError\u001b[0m: \"'ConfigBox' object has no attribute 'non_feature_column'\""
     ]
    }
   ],
   "source": [
    "schema.NON_FEATURE_COLUMN"
   ]
  },
  {
   "cell_type": "code",
   "execution_count": null,
   "metadata": {},
   "outputs": [],
   "source": [
    "df[feature].dtype == self.schema.datatype_of_columns[feature]"
   ]
  },
  {
   "cell_type": "code",
   "execution_count": 48,
   "metadata": {},
   "outputs": [
    {
     "data": {
      "text/plain": [
       "[]"
      ]
     },
     "execution_count": 48,
     "metadata": {},
     "output_type": "execute_result"
    }
   ],
   "source": [
    "null_features_malicious_file = [feature for feature in df.columns if df[feature].isna().sum()>0]\n",
    "null_features_malicious_file"
   ]
  },
  {
   "cell_type": "code",
   "execution_count": 53,
   "metadata": {},
   "outputs": [
    {
     "data": {
      "text/plain": [
       "True"
      ]
     },
     "execution_count": 53,
     "metadata": {},
     "output_type": "execute_result"
    }
   ],
   "source": [
    "int(df.isna().sum().sum()) == 0"
   ]
  },
  {
   "cell_type": "code",
   "execution_count": 54,
   "metadata": {},
   "outputs": [
    {
     "data": {
      "text/plain": [
       "0"
      ]
     },
     "execution_count": 54,
     "metadata": {},
     "output_type": "execute_result"
    }
   ],
   "source": [
    "int(df.isna().sum().sum())"
   ]
  },
  {
   "cell_type": "code",
   "execution_count": null,
   "metadata": {},
   "outputs": [],
   "source": []
  }
 ],
 "metadata": {
  "kernelspec": {
   "display_name": "venv",
   "language": "python",
   "name": "python3"
  },
  "language_info": {
   "codemirror_mode": {
    "name": "ipython",
    "version": 3
   },
   "file_extension": ".py",
   "mimetype": "text/x-python",
   "name": "python",
   "nbconvert_exporter": "python",
   "pygments_lexer": "ipython3",
   "version": "3.10.0"
  }
 },
 "nbformat": 4,
 "nbformat_minor": 2
}
